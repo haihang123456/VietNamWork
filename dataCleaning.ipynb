{
 "cells": [
  {
   "cell_type": "code",
   "execution_count": 1,
   "metadata": {},
   "outputs": [],
   "source": [
    "import pandas as pd\n",
    "import ast"
   ]
  },
  {
   "cell_type": "code",
   "execution_count": 2,
   "metadata": {},
   "outputs": [
    {
     "data": {
      "text/html": [
       "<div>\n",
       "<style scoped>\n",
       "    .dataframe tbody tr th:only-of-type {\n",
       "        vertical-align: middle;\n",
       "    }\n",
       "\n",
       "    .dataframe tbody tr th {\n",
       "        vertical-align: top;\n",
       "    }\n",
       "\n",
       "    .dataframe thead th {\n",
       "        text-align: right;\n",
       "    }\n",
       "</style>\n",
       "<table border=\"1\" class=\"dataframe\">\n",
       "  <thead>\n",
       "    <tr style=\"text-align: right;\">\n",
       "      <th></th>\n",
       "      <th>jobId</th>\n",
       "      <th>jobTitle</th>\n",
       "      <th>jobUrl</th>\n",
       "      <th>userId</th>\n",
       "      <th>companyLogo</th>\n",
       "      <th>alias</th>\n",
       "      <th>createdOn</th>\n",
       "      <th>approvedOn</th>\n",
       "      <th>expiredOn</th>\n",
       "      <th>lastUpdatedOn</th>\n",
       "      <th>...</th>\n",
       "      <th>isMobileHotJob</th>\n",
       "      <th>isMobileTopJob</th>\n",
       "      <th>isBoldAndRedJob</th>\n",
       "      <th>isUrgentJob</th>\n",
       "      <th>isUrgentJobM</th>\n",
       "      <th>onlineOn</th>\n",
       "      <th>visibilityDisplay</th>\n",
       "      <th>priorityOrder</th>\n",
       "      <th>nearestGeoLoc</th>\n",
       "      <th>profilePublishedSiteMask</th>\n",
       "    </tr>\n",
       "  </thead>\n",
       "  <tbody>\n",
       "    <tr>\n",
       "      <th>0</th>\n",
       "      <td>1680760</td>\n",
       "      <td>Nhân Viên Kinh Doanh MT - GT</td>\n",
       "      <td>NaN</td>\n",
       "      <td>7323468</td>\n",
       "      <td>NaN</td>\n",
       "      <td>nhan-vien-kinh-doanh-mt-gt-2</td>\n",
       "      <td>NaN</td>\n",
       "      <td>2023-08-11T11:22:45+07:00</td>\n",
       "      <td>2023-09-10T23:59:59+07:00</td>\n",
       "      <td>NaN</td>\n",
       "      <td>...</td>\n",
       "      <td>True</td>\n",
       "      <td>True</td>\n",
       "      <td>False</td>\n",
       "      <td>False</td>\n",
       "      <td>False</td>\n",
       "      <td>2023-08-11T11:22:45+07:00</td>\n",
       "      <td>False</td>\n",
       "      <td>2023-08-11T11:22:45</td>\n",
       "      <td>NaN</td>\n",
       "      <td>0</td>\n",
       "    </tr>\n",
       "  </tbody>\n",
       "</table>\n",
       "<p>1 rows × 70 columns</p>\n",
       "</div>"
      ],
      "text/plain": [
       "     jobId                      jobTitle  jobUrl   userId companyLogo  \\\n",
       "0  1680760  Nhân Viên Kinh Doanh MT - GT     NaN  7323468         NaN   \n",
       "\n",
       "                          alias  createdOn                 approvedOn  \\\n",
       "0  nhan-vien-kinh-doanh-mt-gt-2        NaN  2023-08-11T11:22:45+07:00   \n",
       "\n",
       "                   expiredOn  lastUpdatedOn  ...  isMobileHotJob  \\\n",
       "0  2023-09-10T23:59:59+07:00            NaN  ...            True   \n",
       "\n",
       "  isMobileTopJob  isBoldAndRedJob  isUrgentJob  isUrgentJobM  \\\n",
       "0           True            False        False         False   \n",
       "\n",
       "                    onlineOn  visibilityDisplay        priorityOrder  \\\n",
       "0  2023-08-11T11:22:45+07:00              False  2023-08-11T11:22:45   \n",
       "\n",
       "   nearestGeoLoc  profilePublishedSiteMask  \n",
       "0            NaN                         0  \n",
       "\n",
       "[1 rows x 70 columns]"
      ]
     },
     "execution_count": 2,
     "metadata": {},
     "output_type": "execute_result"
    }
   ],
   "source": [
    "df = pd.read_csv('data/raw_data.csv')\n",
    "df.head(1)"
   ]
  },
  {
   "cell_type": "markdown",
   "metadata": {},
   "source": [
    "<h5>Loại bỏ các cột không cần thiết"
   ]
  },
  {
   "cell_type": "code",
   "execution_count": 3,
   "metadata": {},
   "outputs": [],
   "source": [
    "list_drop = ['jobUrl','userId','companyLogo','alias', 'createdOn', 'approvedOn', 'expiredOn', 'lastUpdatedOn', 'lastSyncedOn', \n",
    "       'companyId', 'companyProfile', 'companySizeId',\n",
    "       'contactName', 'createdBy', 'isOnline', 'isActive', 'isApproved',\n",
    "       'isUnpaidDisable', 'isCompleted', 'isShowLogo', 'isShowLogoInSearch','languageSelectedId', 'redirectTo', 'requiredCoverLetter',\n",
    "       'languageId', 'locations', 'canonical',\n",
    "       'isShowContact', 'salaryRangeId', 'requiredResume',\n",
    "       'companySizeVI', 'languageSelectedVI','simpleServices', 'services',\n",
    "       'emailAddress', 'isMobileHotJob', 'isMobileTopJob',\n",
    "       'isBoldAndRedJob', 'isUrgentJob', 'isUrgentJobM', 'onlineOn',\n",
    "       'visibilityDisplay', 'priorityOrder', 'nearestGeoLoc','profilePublishedSiteMask']\n",
    "df = df.drop(list_drop, axis=1)"
   ]
  },
  {
   "cell_type": "markdown",
   "metadata": {},
   "source": [
    "<h5>Loại bỏ các cột có giá trị NaN và 0"
   ]
  },
  {
   "cell_type": "code",
   "execution_count": 4,
   "metadata": {},
   "outputs": [
    {
     "data": {
      "text/plain": [
       "24"
      ]
     },
     "execution_count": 4,
     "metadata": {},
     "output_type": "execute_result"
    }
   ],
   "source": [
    "df = df.dropna(axis=1, how='all')\n",
    "df.columns.size"
   ]
  },
  {
   "cell_type": "code",
   "execution_count": 5,
   "metadata": {},
   "outputs": [
    {
     "data": {
      "text/plain": [
       "24"
      ]
     },
     "execution_count": 5,
     "metadata": {},
     "output_type": "execute_result"
    }
   ],
   "source": [
    "df = df.loc[:,(df != 0).any(axis = 0)]\n",
    "df.columns.size"
   ]
  },
  {
   "cell_type": "markdown",
   "metadata": {},
   "source": [
    "<h5>Loại bỏ giá trị trùng lặp"
   ]
  },
  {
   "cell_type": "code",
   "execution_count": 6,
   "metadata": {},
   "outputs": [
    {
     "data": {
      "text/plain": [
       "(8978, 24)"
      ]
     },
     "execution_count": 6,
     "metadata": {},
     "output_type": "execute_result"
    }
   ],
   "source": [
    "df = df.drop_duplicates(keep = 'first')\n",
    "df.shape"
   ]
  },
  {
   "cell_type": "code",
   "execution_count": 7,
   "metadata": {},
   "outputs": [
    {
     "name": "stdout",
     "output_type": "stream",
     "text": [
      "<class 'pandas.core.frame.DataFrame'>\n",
      "Index: 8978 entries, 0 to 8999\n",
      "Data columns (total 24 columns):\n",
      " #   Column             Non-Null Count  Dtype \n",
      "---  ------             --------------  ----- \n",
      " 0   jobId              8978 non-null   int64 \n",
      " 1   jobTitle           8978 non-null   object\n",
      " 2   companyName        8978 non-null   object\n",
      " 3   isAnonymous        8978 non-null   bool  \n",
      " 4   isSalaryVisible    8978 non-null   bool  \n",
      " 5   jobDescription     8976 non-null   object\n",
      " 6   jobRequirement     8978 non-null   object\n",
      " 7   jobLevelId         8978 non-null   int64 \n",
      " 8   salary             8978 non-null   int64 \n",
      " 9   salaryMax          8978 non-null   int64 \n",
      " 10  salaryMin          8978 non-null   int64 \n",
      " 11  typeWorkingId      8978 non-null   int64 \n",
      " 12  skills             8974 non-null   object\n",
      " 13  benefits           8975 non-null   object\n",
      " 14  workingLocations   8974 non-null   object\n",
      " 15  address            8786 non-null   object\n",
      " 16  industries         8974 non-null   object\n",
      " 17  jobLevel           8978 non-null   object\n",
      " 18  jobLevelVI         8978 non-null   object\n",
      " 19  companySize        7423 non-null   object\n",
      " 20  languageSelected   8978 non-null   object\n",
      " 21  prettySalary       8978 non-null   object\n",
      " 22  durationDays       8978 non-null   int64 \n",
      " 23  numOfApplications  8978 non-null   int64 \n",
      "dtypes: bool(2), int64(8), object(14)\n",
      "memory usage: 1.6+ MB\n"
     ]
    }
   ],
   "source": [
    "df.info()"
   ]
  },
  {
   "cell_type": "markdown",
   "metadata": {},
   "source": [
    "<h5> Xử lý cột 'companySize'"
   ]
  },
  {
   "cell_type": "code",
   "execution_count": 8,
   "metadata": {},
   "outputs": [
    {
     "data": {
      "text/plain": [
       "companySize\n",
       "100-499          2256\n",
       "25-99            1793\n",
       "1,000-4,999      1207\n",
       "500-999           763\n",
       "10-24             667\n",
       "5,000-9,999       329\n",
       "10,000-19,999     215\n",
       "Less Than 10      108\n",
       "20,000-49,999      43\n",
       "Over 50,000        42\n",
       "Name: count, dtype: int64"
      ]
     },
     "execution_count": 8,
     "metadata": {},
     "output_type": "execute_result"
    }
   ],
   "source": [
    "df['companySize'].value_counts()"
   ]
  },
  {
   "cell_type": "code",
   "execution_count": 9,
   "metadata": {},
   "outputs": [
    {
     "data": {
      "text/plain": [
       "7423"
      ]
     },
     "execution_count": 9,
     "metadata": {},
     "output_type": "execute_result"
    }
   ],
   "source": [
    "def clean_companySize(s): \n",
    "    if s == \"100-499\": return (100, 499)\n",
    "    elif s == \"25-99\": return (25, 99)\n",
    "    elif s == \"1,000-4,999\": return (1000, 4999)\n",
    "    elif s == \"500-999\": return (500, 999)\n",
    "    elif s == \"10-24\": return (10, 24)\n",
    "    elif s == \"5,000-9,999\": return (5000, 9999)\n",
    "    elif s == \"10,000-19,999\": return (10000, 19999)\n",
    "    elif s == \"Less Than 10\": return (0, 10)\n",
    "    elif s == \"20,000-49,999\": return (20000, 49999)\n",
    "    elif s == \"Over 50,000\": return (50000, 99999)\n",
    "    else: return None\n",
    "#thay thế vào giá trị trong cột cũ\n",
    "temp_df = df.copy()\n",
    "temp_df['companySize'] = df['companySize'].apply(lambda s: clean_companySize(s))\n",
    "temp_df['companySize'].value_counts().sum()"
   ]
  },
  {
   "cell_type": "markdown",
   "metadata": {},
   "source": [
    "<h5>Xử lý cột 'workingLocations'"
   ]
  },
  {
   "cell_type": "code",
   "execution_count": 10,
   "metadata": {},
   "outputs": [
    {
     "data": {
      "text/plain": [
       "workingLocations\n",
       "[{'workingLocationId': 119997, 'addressId': 774, 'cityId': 24, 'districtId': 0, 'address': 'Hà Nội, Vietnam', 'geoLoc': {'lat': 21.027764, 'lon': 105.83416}, 'cityName': 'Ha Noi', 'cityNameVI': 'Hà Nội'}]                                                                                                                                                                                                                                                                                                                                                                                                                                                                 42\n",
       "[{'workingLocationId': 17, 'addressId': 14572, 'cityId': 24, 'districtId': 10, 'address': 'Hà Nội, Việt Nam', 'geoLoc': {'lat': 21.027764, 'lon': 105.83416}, 'cityName': 'Ha Noi', 'cityNameVI': 'Hà Nội'}]                                                                                                                                                                                                                                                                                                                                                                                                                                                                 24\n",
       "[{'workingLocationId': 2027, 'addressId': 63746, 'cityId': 29, 'districtId': 36, 'address': '702 Nguyễn Văn Linh, Tân Phong, District 7, Hồ Chí Minh, Việt Nam', 'geoLoc': {'lat': 10.729419, 'lon': 106.700243}, 'cityName': 'Ho Chi Minh', 'cityNameVI': 'Hồ Chí Minh'}]                                                                                                                                                                                                                                                                                                                                                                                                   22\n",
       "[{'workingLocationId': 105865, 'addressId': 60730, 'cityId': 63, 'districtId': 696, 'address': 'Khu công nghiệp bá thiện 1, Bá Hiến, Bình Xuyên, Vĩnh Phúc, Việt Nam', 'geoLoc': {'lat': 21.318082, 'lon': 105.68253}, 'cityName': 'Vinh Phuc', 'cityNameVI': 'Vĩnh Phúc'}]                                                                                                                                                                                                                                                                                                                                                                                                  19\n",
       "[{'workingLocationId': 100763, 'addressId': 58077, 'cityId': 29, 'districtId': 43, 'address': 'Etown Building, 364 Cong Hoa, Ward 13, Tan Binh District, HCMC', 'geoLoc': {'lat': 10.800843, 'lon': 106.640828}, 'cityName': 'Ho Chi Minh', 'cityNameVI': 'Hồ Chí Minh'}]                                                                                                                                                                                                                                                                                                                                                                                                    19\n",
       "                                                                                                                                                                                                                                                                                                                                                                                                                                                                                                                                                                                                                                                                             ..\n",
       "[{'workingLocationId': 103771, 'addressId': 69276, 'cityId': 24, 'districtId': 10, 'address': 'Tòa nhà LPB, 210 Đường Trần Quang Khải, Phường Tràng Tiền, Q. Hoàn Kiếm, Hà Nội, Việt Nam', 'geoLoc': {'lat': 21.027145, 'lon': 105.858404}, 'cityName': 'Ha Noi', 'cityNameVI': 'Hà Nội'}]                                                                                                                                                                                                                                                                                                                                                                                    1\n",
       "[{'workingLocationId': 123214, 'addressId': 40796, 'cityId': 5, 'districtId': 115, 'address': 'Việt Yên, Bắc Giang, Việt Nam', 'geoLoc': {'lat': 21.285863, 'lon': 106.087533}, 'cityName': 'Bac Giang', 'cityNameVI': 'Bắc Giang'}]                                                                                                                                                                                                                                                                                                                                                                                                                                          1\n",
       "[{'workingLocationId': 85804, 'addressId': 50243, 'cityId': 27, 'districtId': 318, 'address': 'Lô D3 và Lô F, KCN PHúc Điền, xã Cẩm Phúc, huyện Cẩm Giàng, tỉnh Hải Dương, Việt Nam', 'geoLoc': {'lat': 20.933289, 'lon': 106.191994}, 'cityName': 'Hai Duong', 'cityNameVI': 'Hải Dương'}]                                                                                                                                                                                                                                                                                                                                                                                   1\n",
       "[{'workingLocationId': 123093, 'addressId': 522, 'cityId': 11, 'districtId': 0, 'address': 'Binh Duong, Vietnam', 'geoLoc': {'lat': 11.325402, 'lon': 106.477017}, 'cityName': 'Binh Duong', 'cityNameVI': 'Bình Dương'}, {'workingLocationId': 123109, 'addressId': 878, 'cityId': 19, 'districtId': 0, 'address': 'Dong Nai, Vietnam', 'geoLoc': {'lat': 11.068631, 'lon': 107.167598}, 'cityName': 'Dong Nai', 'cityNameVI': 'Đồng Nai'}, {'workingLocationId': 123111, 'addressId': 5126, 'cityId': 29, 'districtId': 0, 'address': 'Ho Chi Minh, Vietnam', 'geoLoc': {'lat': 10.823099, 'lon': 106.629664}, 'cityName': 'Ho Chi Minh', 'cityNameVI': 'Hồ Chí Minh'}]     1\n",
       "[{'workingLocationId': 1641, 'addressId': 41, 'cityId': 24, 'districtId': 0, 'address': 'Ha Noi', 'geoLoc': {'lat': 0, 'lon': 0}, 'cityName': 'Ha Noi', 'cityNameVI': 'Hà Nội'}]                                                                                                                                                                                                                                                                                                                                                                                                                                                                                              1\n",
       "Name: count, Length: 5893, dtype: int64"
      ]
     },
     "execution_count": 10,
     "metadata": {},
     "output_type": "execute_result"
    }
   ],
   "source": [
    "temp_df[\"workingLocations\"].value_counts()"
   ]
  },
  {
   "cell_type": "code",
   "execution_count": 11,
   "metadata": {},
   "outputs": [
    {
     "data": {
      "text/plain": [
       "0         {24: 'Hà Nội'}\n",
       "1         {24: 'Hà Nội'}\n",
       "2         {24: 'Hà Nội'}\n",
       "3         {24: 'Hà Nội'}\n",
       "4         {24: 'Hà Nội'}\n",
       "              ...       \n",
       "8995      {24: 'Hà Nội'}\n",
       "8996      {24: 'Hà Nội'}\n",
       "8997    {37: 'Lạng Sơn'}\n",
       "8998      {24: 'Hà Nội'}\n",
       "8999      {24: 'Hà Nội'}\n",
       "Name: workingLocations, Length: 8974, dtype: object"
      ]
     },
     "execution_count": 11,
     "metadata": {},
     "output_type": "execute_result"
    }
   ],
   "source": [
    "#loại bỏ nan\n",
    "temp_df = temp_df.dropna(subset=['workingLocations'])\n",
    "#chuyển đổi chuỗi json\n",
    "temp_df['workingLocations'] = temp_df['workingLocations'].apply(ast.literal_eval)\n",
    "def clean_workingLocations(x):\n",
    "    cityName = {} \n",
    "    for i in x: \n",
    "        #lấy Id thành phố và tên\n",
    "        cityName[i.get(\"cityId\")] = i.get(\"cityNameVI\")\n",
    "    return cityName\n",
    "temp_df['workingLocations'] = temp_df['workingLocations'].apply(lambda x: clean_workingLocations(x))\n",
    "temp_df['workingLocations']"
   ]
  },
  {
   "cell_type": "markdown",
   "metadata": {},
   "source": [
    "<h5>Tương tự cho 3 cột 'skills', 'benefits','industries'"
   ]
  },
  {
   "cell_type": "code",
   "execution_count": 12,
   "metadata": {},
   "outputs": [],
   "source": [
    "temp_df = temp_df.dropna(subset=['skills'])\n",
    "temp_df['skills'] = temp_df['skills'].apply(ast.literal_eval)\n",
    "temp_df['benefits'] = temp_df['benefits'].apply(ast.literal_eval)\n",
    "temp_df['industries'] = temp_df['industries'].apply(ast.literal_eval)"
   ]
  },
  {
   "cell_type": "code",
   "execution_count": 13,
   "metadata": {},
   "outputs": [],
   "source": [
    "def clean_skills(x):\n",
    "    skills= {} \n",
    "    for i in x: \n",
    "        skills[i.get(\"skillId\")] = i.get(\"skillName\")\n",
    "    return skills\n",
    "\n",
    "def clean_benefits(x):\n",
    "    benefits= {} \n",
    "    for i in x: \n",
    "        benefits[i.get(\"benefitId\")] = i.get(\"benefitName\")\n",
    "    return benefits\n",
    "def clean_industries(x): \n",
    "    industries= {} \n",
    "    for i in x: \n",
    "        industries[i.get(\"industryId\")] = i.get(\"industryName\")\n",
    "    return industries"
   ]
  },
  {
   "cell_type": "code",
   "execution_count": 14,
   "metadata": {},
   "outputs": [
    {
     "data": {
      "text/html": [
       "<div>\n",
       "<style scoped>\n",
       "    .dataframe tbody tr th:only-of-type {\n",
       "        vertical-align: middle;\n",
       "    }\n",
       "\n",
       "    .dataframe tbody tr th {\n",
       "        vertical-align: top;\n",
       "    }\n",
       "\n",
       "    .dataframe thead th {\n",
       "        text-align: right;\n",
       "    }\n",
       "</style>\n",
       "<table border=\"1\" class=\"dataframe\">\n",
       "  <thead>\n",
       "    <tr style=\"text-align: right;\">\n",
       "      <th></th>\n",
       "      <th>skills</th>\n",
       "      <th>benefits</th>\n",
       "      <th>industries</th>\n",
       "    </tr>\n",
       "  </thead>\n",
       "  <tbody>\n",
       "    <tr>\n",
       "      <th>0</th>\n",
       "      <td>{1919: 'Kênh MT', 1921: 'Hàng Tiêu Dùng', 666:...</td>\n",
       "      <td>{1: 'Bonus', 2: 'Healthcare Plan', 10: 'Team A...</td>\n",
       "      <td>{11: 'Customer Service', 32: 'Retail/Wholesale...</td>\n",
       "    </tr>\n",
       "    <tr>\n",
       "      <th>1</th>\n",
       "      <td>{27810: 'Marketing Materials Strategy', 333851...</td>\n",
       "      <td>{1: 'Bonus', 2: 'Healthcare Plan', 4: 'Training'}</td>\n",
       "      <td>{3: 'Advertising/Promotion/PR', 27: 'Marketing...</td>\n",
       "    </tr>\n",
       "    <tr>\n",
       "      <th>2</th>\n",
       "      <td>{93: 'Kế Toán Tổng Hợp', 941661: 'Hạch Toán Ch...</td>\n",
       "      <td>{1: 'Bonus', 2: 'Healthcare Plan', 10: 'Team A...</td>\n",
       "      <td>{1: 'Accounting', 58: 'Auditing', 59: 'Finance...</td>\n",
       "    </tr>\n",
       "    <tr>\n",
       "      <th>3</th>\n",
       "      <td>{100: 'English', 651: 'Trade Marketing', 15900...</td>\n",
       "      <td>{1: 'Bonus', 2: 'Healthcare Plan', 9: 'Travel ...</td>\n",
       "      <td>{3: 'Advertising/Promotion/PR', 27: 'Marketing...</td>\n",
       "    </tr>\n",
       "    <tr>\n",
       "      <th>4</th>\n",
       "      <td>{17750: 'Tìm Kiếm Khách Hàng', 354: 'Chăm Sóc ...</td>\n",
       "      <td>{1: 'Bonus', 4: 'Training', 5: 'Awards'}</td>\n",
       "      <td>{33: 'Sales', 42: 'Banking', 59: 'Finance/Inve...</td>\n",
       "    </tr>\n",
       "    <tr>\n",
       "      <th>...</th>\n",
       "      <td>...</td>\n",
       "      <td>...</td>\n",
       "      <td>...</td>\n",
       "    </tr>\n",
       "    <tr>\n",
       "      <th>8995</th>\n",
       "      <td>{618943: 'Government Organizations', 236965: '...</td>\n",
       "      <td>{1: 'Bonus', 5: 'Awards', 15: 'Others'}</td>\n",
       "      <td>{8: 'Consulting', 58: 'Auditing', 69: 'Plannin...</td>\n",
       "    </tr>\n",
       "    <tr>\n",
       "      <th>8996</th>\n",
       "      <td>{618943: 'Government Organizations', 941031: '...</td>\n",
       "      <td>{1: 'Bonus', 5: 'Awards', 15: 'Others'}</td>\n",
       "      <td>{8: 'Consulting', 58: 'Auditing', 69: 'Plannin...</td>\n",
       "    </tr>\n",
       "    <tr>\n",
       "      <th>8997</th>\n",
       "      <td>{67: 'Xuất Nhập Khẩu', 26367: 'Booking', 23667...</td>\n",
       "      <td>{2: 'Healthcare Plan', 3: 'Paid Leave', 10: 'T...</td>\n",
       "      <td>{19: 'Export-Import', 36: 'Freight/Logistics'}</td>\n",
       "    </tr>\n",
       "    <tr>\n",
       "      <th>8998</th>\n",
       "      <td>{9428: 'Chinese', 346516: 'Business Deveplomen...</td>\n",
       "      <td>{1: 'Bonus', 5: 'Awards', 15: 'Others'}</td>\n",
       "      <td>{8: 'Consulting', 11: 'Customer Service', 58: ...</td>\n",
       "    </tr>\n",
       "    <tr>\n",
       "      <th>8999</th>\n",
       "      <td>{184: 'Risk', 29886: 'Business consulting', 16...</td>\n",
       "      <td>{1: 'Bonus', 5: 'Awards', 15: 'Others'}</td>\n",
       "      <td>{8: 'Consulting', 58: 'Auditing', 59: 'Finance...</td>\n",
       "    </tr>\n",
       "  </tbody>\n",
       "</table>\n",
       "<p>8972 rows × 3 columns</p>\n",
       "</div>"
      ],
      "text/plain": [
       "                                                 skills  \\\n",
       "0     {1919: 'Kênh MT', 1921: 'Hàng Tiêu Dùng', 666:...   \n",
       "1     {27810: 'Marketing Materials Strategy', 333851...   \n",
       "2     {93: 'Kế Toán Tổng Hợp', 941661: 'Hạch Toán Ch...   \n",
       "3     {100: 'English', 651: 'Trade Marketing', 15900...   \n",
       "4     {17750: 'Tìm Kiếm Khách Hàng', 354: 'Chăm Sóc ...   \n",
       "...                                                 ...   \n",
       "8995  {618943: 'Government Organizations', 236965: '...   \n",
       "8996  {618943: 'Government Organizations', 941031: '...   \n",
       "8997  {67: 'Xuất Nhập Khẩu', 26367: 'Booking', 23667...   \n",
       "8998  {9428: 'Chinese', 346516: 'Business Deveplomen...   \n",
       "8999  {184: 'Risk', 29886: 'Business consulting', 16...   \n",
       "\n",
       "                                               benefits  \\\n",
       "0     {1: 'Bonus', 2: 'Healthcare Plan', 10: 'Team A...   \n",
       "1     {1: 'Bonus', 2: 'Healthcare Plan', 4: 'Training'}   \n",
       "2     {1: 'Bonus', 2: 'Healthcare Plan', 10: 'Team A...   \n",
       "3     {1: 'Bonus', 2: 'Healthcare Plan', 9: 'Travel ...   \n",
       "4              {1: 'Bonus', 4: 'Training', 5: 'Awards'}   \n",
       "...                                                 ...   \n",
       "8995            {1: 'Bonus', 5: 'Awards', 15: 'Others'}   \n",
       "8996            {1: 'Bonus', 5: 'Awards', 15: 'Others'}   \n",
       "8997  {2: 'Healthcare Plan', 3: 'Paid Leave', 10: 'T...   \n",
       "8998            {1: 'Bonus', 5: 'Awards', 15: 'Others'}   \n",
       "8999            {1: 'Bonus', 5: 'Awards', 15: 'Others'}   \n",
       "\n",
       "                                             industries  \n",
       "0     {11: 'Customer Service', 32: 'Retail/Wholesale...  \n",
       "1     {3: 'Advertising/Promotion/PR', 27: 'Marketing...  \n",
       "2     {1: 'Accounting', 58: 'Auditing', 59: 'Finance...  \n",
       "3     {3: 'Advertising/Promotion/PR', 27: 'Marketing...  \n",
       "4     {33: 'Sales', 42: 'Banking', 59: 'Finance/Inve...  \n",
       "...                                                 ...  \n",
       "8995  {8: 'Consulting', 58: 'Auditing', 69: 'Plannin...  \n",
       "8996  {8: 'Consulting', 58: 'Auditing', 69: 'Plannin...  \n",
       "8997     {19: 'Export-Import', 36: 'Freight/Logistics'}  \n",
       "8998  {8: 'Consulting', 11: 'Customer Service', 58: ...  \n",
       "8999  {8: 'Consulting', 58: 'Auditing', 59: 'Finance...  \n",
       "\n",
       "[8972 rows x 3 columns]"
      ]
     },
     "execution_count": 14,
     "metadata": {},
     "output_type": "execute_result"
    }
   ],
   "source": [
    "temp_df['skills'] = temp_df['skills'].apply(lambda x: clean_skills(x))\n",
    "temp_df['benefits'] = temp_df['benefits'].apply(lambda x: clean_benefits(x))\n",
    "temp_df['industries'] = temp_df['industries'].apply(lambda x: clean_industries(x))\n",
    "temp_df[['skills', 'benefits','industries']]"
   ]
  },
  {
   "cell_type": "markdown",
   "metadata": {},
   "source": [
    "<h5>Chuyển đổi cột typeWorkingId"
   ]
  },
  {
   "cell_type": "code",
   "execution_count": 15,
   "metadata": {},
   "outputs": [
    {
     "data": {
      "text/plain": [
       "Index([1, 2, 3, 4, 5, 6, 7], dtype='int64', name='typeWorkingId')"
      ]
     },
     "execution_count": 15,
     "metadata": {},
     "output_type": "execute_result"
    }
   ],
   "source": [
    "temp_df[\"typeWorkingId\"].value_counts().sort_index().index"
   ]
  },
  {
   "cell_type": "code",
   "execution_count": 16,
   "metadata": {},
   "outputs": [],
   "source": [
    "def convert_typeWorkingName(id):\n",
    "    if (id == 1):\n",
    "        return 'Full-time'\n",
    "    elif (id == 2):\n",
    "        return 'Part-time'\n",
    "    elif (id == 3):\n",
    "        return 'Internship'\n",
    "    elif (id == 4):\n",
    "        return 'Online jobs'\n",
    "    elif (id == 5):\n",
    "        return 'Freelancer'\n",
    "    elif (id == 6):\n",
    "        return 'Seasonal'\n",
    "    else:\n",
    "        return 'Other'"
   ]
  },
  {
   "cell_type": "code",
   "execution_count": 17,
   "metadata": {},
   "outputs": [],
   "source": [
    "#tạo thêm cột workingName với workingID tương ứng\n",
    "temp_df['typeWorkingName'] = [convert_typeWorkingName(x) for x in temp_df['typeWorkingId']]"
   ]
  },
  {
   "cell_type": "markdown",
   "metadata": {},
   "source": [
    "<h5>Tìm các cột có giá trị thiếu"
   ]
  },
  {
   "cell_type": "code",
   "execution_count": 18,
   "metadata": {},
   "outputs": [
    {
     "name": "stdout",
     "output_type": "stream",
     "text": [
      "jobDescription       2\n",
      "address            192\n",
      "companySize       1554\n",
      "dtype: int64\n"
     ]
    }
   ],
   "source": [
    "missing_values = temp_df.isnull().sum()\n",
    "columns_with_missing_values = missing_values[missing_values > 0]\n",
    "print(columns_with_missing_values)"
   ]
  },
  {
   "cell_type": "markdown",
   "metadata": {},
   "source": [
    "<h5><i>Nhận thấy cột 'jobDescription' và 'address' không quan trọng nên ta bổ sung giá trị cho cột 'companySize' bằng giá trị mode"
   ]
  },
  {
   "cell_type": "code",
   "execution_count": 19,
   "metadata": {},
   "outputs": [],
   "source": [
    "mode_value = temp_df['companySize'].mode().values[0]\n",
    "temp_df['companySize'].fillna(temp_df['companySize'].apply(lambda x: mode_value if pd.isnull(x) else x), inplace = True)"
   ]
  },
  {
   "cell_type": "code",
   "execution_count": 20,
   "metadata": {},
   "outputs": [],
   "source": [
    "temp_df.to_csv('data/new_data.csv',index = False)"
   ]
  }
 ],
 "metadata": {
  "kernelspec": {
   "display_name": "Python 3",
   "language": "python",
   "name": "python3"
  },
  "language_info": {
   "codemirror_mode": {
    "name": "ipython",
    "version": 3
   },
   "file_extension": ".py",
   "mimetype": "text/x-python",
   "name": "python",
   "nbconvert_exporter": "python",
   "pygments_lexer": "ipython3",
   "version": "3.10.11"
  }
 },
 "nbformat": 4,
 "nbformat_minor": 2
}
