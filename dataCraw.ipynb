{
 "cells": [
  {
   "cell_type": "code",
   "execution_count": 628,
   "metadata": {},
   "outputs": [],
   "source": [
    "import requests\n",
    "import pandas as pd\n",
    "from tqdm import tqdm\n",
    "import ast\n",
    "import matplotlib.pyplot as plt\n",
    "import numpy as np\n",
    "import seaborn as sns\n"
   ]
  },
  {
   "cell_type": "markdown",
   "metadata": {},
   "source": [
    "<h3><b>Thu Thập Dữ liệu</b></h3>\n",
    "<hr>"
   ]
  },
  {
   "cell_type": "markdown",
   "metadata": {},
   "source": [
    "<h5><i>Tôi dùng phương thức HTTP Requests vì tôi thấy trang web cung cấp hầu hết thông tin qua phương thức POST để xử lý dữ liệu, vì vậy chùng ta không cần phải sử dụng các thư viện khác.</i></h5>\n",
    "\n",
    "![Information](Image/image.png)\n",
    "\n",
    "=> link url crawl: https://ms.vietnamworks.com/job-search/v1.0/search"
   ]
  },
  {
   "cell_type": "markdown",
   "metadata": {},
   "source": [
    "<h5><i> Các data có thể lấy</i></h5>\n",
    "\n",
    "![Information](Image/payload.png)"
   ]
  },
  {
   "cell_type": "code",
   "execution_count": 629,
   "metadata": {},
   "outputs": [],
   "source": [
    "# Payload and header of this web:\n",
    "payload = {\n",
    "  \"hitsPerPage\": 50,\n",
    "  \"page\": 0,\n",
    "  \"retrieveFields\": [\n",
    "  \"address\",\n",
    "  \"benefits\",\n",
    "  \"jobTitle\",\n",
    "  \"isSalaryVisible\",\n",
    "  \"isShowLogo\",\n",
    "  \"companyLogo\",\n",
    "  \"userId\",\n",
    "  \"jobLevel\",\n",
    "  \"jobLevelId\",\n",
    "  \"jobLevelVI\",\n",
    "  \"jobId\",\n",
    "  \"companyId\",\n",
    "  \"approvedOn\",\n",
    "  \"isAnonymous\",\n",
    "  \"alias\",\n",
    "  \"expiredOn\",\n",
    "  \"industries\",\n",
    "  \"workingLocations\",\n",
    "  \"services\",\n",
    "  \"companyName\",\n",
    "  \"onlineOn\",\n",
    "  \"simpleServices\",\n",
    "  \"visibilityDisplay\",\n",
    "  \"isShowLogoInSearch\",\n",
    "  \"priorityOrder\",\n",
    "  \"skills\",\n",
    "  \"profilePublishedSiteMask\",\n",
    "  \"salary\",\n",
    "  \"salaryMin\",\n",
    "  \"salaryMax\",\n",
    "  \"prettySalary\",\n",
    "  \"jobDescription\",\n",
    "  \"jobRequirement\",\n",
    "  \"companySize\",\n",
    "  \"languageId\",\n",
    "  \"languageSelected\",\n",
    "  \"durationDays\",\n",
    "  \"numOfApplications\",\n",
    "  \"typeWorkingId\"\n",
    "]\n",
    "}\n",
    "\n",
    "headers = {\n",
    "    'Accept': '*/*',\n",
    "    'Accept-Language': 'en-US,en;q=0.9',\n",
    "    'User-Agent': 'Mozilla/5.0 (Linux; Android 6.0; Nexus 5 Build/MRA58N) AppleWebKit/537.36 (KHTML, like Gecko) \\\n",
    "                   Chrome/115.0.0.0 Mobile Safari/537.36 Edg/115.0.1901.183',\n",
    "    'X-Source': 'Page-Container'\n",
    "}\n",
    "total_pages = 90\n",
    "offset = 100\n",
    "payload['hitsPerPage'] = offset\n",
    "result = []\n",
    "endpoint = 'https://ms.vietnamworks.com/job-search/v1.0/search'\n",
    "for i in tqdm(range(0,total_pages)):\n",
    "    payload['page'] = i\n",
    "    response = requests.post(endpoint,json = payload,headers = headers)\n",
    "    if response.status_code == 200:\n",
    "        print('Request page {} success!!!'.format(i+1)) \n",
    "        for raw_data in response.json().get('data'):\n",
    "            result.append(raw_data)\n",
    "\n",
    "df = pd.DataFrame(result)\n",
    "df.to_csv('data/raw_data.csv',index=False)    "
   ]
  }
 ],
 "metadata": {
  "kernelspec": {
   "display_name": "Python 3",
   "language": "python",
   "name": "python3"
  },
  "language_info": {
   "codemirror_mode": {
    "name": "ipython",
    "version": 3
   },
   "file_extension": ".py",
   "mimetype": "text/x-python",
   "name": "python",
   "nbconvert_exporter": "python",
   "pygments_lexer": "ipython3",
   "version": "3.10.11"
  }
 },
 "nbformat": 4,
 "nbformat_minor": 2
}
